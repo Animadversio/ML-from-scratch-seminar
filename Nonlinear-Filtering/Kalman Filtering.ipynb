{
 "cells": [
  {
   "cell_type": "markdown",
   "metadata": {},
   "source": [
    "# Kalman Filter"
   ]
  },
  {
   "cell_type": "code",
   "execution_count": null,
   "metadata": {},
   "outputs": [],
   "source": [
    "import numpy as np\n",
    "import matplotlib.pyplot as plt"
   ]
  },
  {
   "cell_type": "markdown",
   "metadata": {},
   "source": [
    "## Filtering for a random walk\n",
    "Recall that a Kalman filter can be used if both transition and emission densities are linear Gaussians. These models are usually referred to as linear dynamical models (LDS). In particular, we will consider the following model:\n",
    "\\begin{eqnarray}\n",
    "p(x_t | x_{t-1} ) & = & \\mathcal{N} \\left(x_t ; F x_{t-1}, Q \\right) \\\\\n",
    "p(t_t | x_{t} ) & = & \\mathcal{N} \\left(y_t ; H x_{t}, R \\right)\n",
    "\\end{eqnarray},\n",
    "where Q and R are noise \\emph{covariances}.\n",
    "\n",
    "As a first example, let us consider a very simple, one-dimensional random walk model."
   ]
  },
  {
   "cell_type": "code",
   "execution_count": null,
   "metadata": {},
   "outputs": [],
   "source": [
    "# the dictionary that contains all the parameters for the LDS\n",
    "params = {\n",
    "    \"F\": 1,\n",
    "    \"Q\": 1,\n",
    "    \"H\": 1,\n",
    "    \"R\": 10,\n",
    "    \"mu0\": 10, # initial mean\n",
    "    \"Sigma0\": 2, # initial variance\n",
    "    \"T\": 50\n",
    "}"
   ]
  },
  {
   "cell_type": "markdown",
   "metadata": {},
   "source": [
    "We will now generate some artificial data from this generative model, i.e. we will create a trajectory $x_{0:t}$ and observations $y_{1:t}$. Note that the np.random.normal takes the _standard deviation_ as an input, which is why we have to compute the square root of the covariances when drawing samples from the generative model."
   ]
  },
  {
   "cell_type": "code",
   "execution_count": null,
   "metadata": {},
   "outputs": [],
   "source": [
    "def KF1D_generateData(params):\n",
    "    \n",
    "    x = np.zeros(params[\"T\"]+1)\n",
    "    y = np.zeros(params[\"T\"]+1)\n",
    "    \n",
    "    # initialization: draw samples from the initial distribution\n",
    "    x[0] = np.random.normal(params[\"mu0\"],np.sqrt(params[\"Sigma0\"]))\n",
    "    \n",
    "    for i in range(1,params[\"T\"]+1):\n",
    "        # propagate the latent variable\n",
    "        x[i] = np.random.normal(params[\"F\"] * x[i-1],np.sqrt(params[\"Q\"]))\n",
    "        # draw an observation from the current state\n",
    "        y[i] = np.random.normal(params[\"H\"] * x[i], np.sqrt(params[\"R\"]))\n",
    "    \n",
    "    \n",
    "    return x, y\n",
    "\n",
    "\n",
    "# generate a sample trajectory\n",
    "np.random.seed(42) # for reproducibility ;)\n",
    "x, y = KF1D_generateData(params)"
   ]
  },
  {
   "cell_type": "markdown",
   "metadata": {},
   "source": [
    "In a filtering task, we don't have access to the latent trajectory $x_{0:t}$, but only to the sequence of observations. The goal is to estimate $x_{0:t}$ based on these observations alone. More precisely, a full solution to the filtering task is given by the filtering distribution (or posterior) $p(x_t | y_{1:t})$.\n",
    "Let us first code up a Kalman filter (see pdf, algorithm 1) and let's run it by feeding it with the observations:"
   ]
  },
  {
   "cell_type": "code",
   "execution_count": null,
   "metadata": {},
   "outputs": [],
   "source": [
    "def KF1D(y,params):\n",
    "    \n",
    "    # unpack some parameters for readibility\n",
    "    H = params[\"H\"]\n",
    "    F = params[\"F\"]\n",
    "    \n",
    "    \n",
    "    # initialize mu and Sigma\n",
    "    mu = np.zeros(params[\"T\"]+1)\n",
    "    Sigma = np.zeros(params[\"T\"]+1)  \n",
    "    \n",
    "    # the initial mean and variance are model parameters\n",
    "    # %%%%%%%%%%%%%%% ENTER CODE HERE %%%%%%%%%%%%%%%%%%%    \n",
    "    \n",
    "    for t in range(1,params[\"T\"]+1):\n",
    "        \n",
    "        # compute variance of prediction density P. In the first iteration, P = Sigma0\n",
    "        # %%%%%%%%%%%%%%% ENTER CODE HERE %%%%%%%%%%%%%%%%%%%\n",
    "            \n",
    "        # compute Kalman gain\n",
    "        # %%%%%%%%%%%%%%% ENTER CODE HERE %%%%%%%%%%%%%%%%%%%\n",
    "        \n",
    "        # propagate mean and variance\n",
    "        # %%%%%%%%%%%%%%% ENTER CODE HERE %%%%%%%%%%%%%%%%%%%\n",
    "            \n",
    "    \n",
    "    return mu, Sigma\n",
    "\n",
    "# run the KF\n",
    "mu, Sigma = KF1D(y,params)"
   ]
  },
  {
   "cell_type": "markdown",
   "metadata": {},
   "source": [
    "Not let us plot the result of the filtering. We also want to compare the filter estimate (mean) with the ground truth trajectory $x_{0:t}$"
   ]
  },
  {
   "cell_type": "code",
   "execution_count": null,
   "metadata": {},
   "outputs": [],
   "source": [
    "# Plot the trajectory and the observations\n",
    "# (assume no observation at y = 0 )\n",
    "\n",
    "t = np.arange(params[\"T\"]+1)\n",
    "\n",
    "\n",
    "fig, (ax1,ax2) = plt.subplots(2,1,figsize=(10,8))\n",
    "\n",
    "# plots the filter estimate, the observations and the ground truth trajectory\n",
    "ax1.scatter(t[1:],y[1:],color='grey',facecolors='none')\n",
    "ax1.scatter(t,x,color='black')\n",
    "ax1.plot(t,mu,linewidth=2)\n",
    "ax1.legend([r'$\\mu_t$ (KF)',r'$y_t$',r'$x_t$'])\n",
    "ax1.grid(True)\n",
    "ax1.set_xlim(0,50)\n",
    "ax1.set_title('Mean')\n",
    "\n",
    "# plots the KF variance. Note that it becomes stationary.\n",
    "ax2.plot(t,Sigma)\n",
    "ax2.set_xlim(0,50)\n",
    "ax2.set_title('Variance')\n",
    "\n",
    "plt.show()"
   ]
  },
  {
   "cell_type": "markdown",
   "metadata": {},
   "source": [
    "## Filtering in dynamical systems \n",
    "The previous example was a super artificial toy example to get you started quickly and help you get an intiution what the task is. Let us now consider a more realistic example (which is related to the kind of applications that led to the invention of Kalman filters in the early 60s): tracking a moving object (e.g. a Soviet party balloon, to give it the right historical context and reasons why Kalman filters were invented in the first place. To be fair, it was also used for \"lunar vehicle navigation\"), which is governed by the follwing dynamical system:\n",
    "\\begin{eqnarray}\n",
    "\\dot{x}_t &=& v_t, \\\\\n",
    "\\dot{v}_t &=& - \\frac{1}{\\tau} v_t + \\eta_t.\n",
    "\\end{eqnarray}\n",
    "So our latent space has two dimensions: $x_t$ and $v_t$. Note that $v_t$ has an exponential decay component with time constant $\\tau$ (e.g. due to friction) and is also subject to a white noise random force $\\eta_t$ (e.g. divine intervention).\n",
    "Further, we assume that the only information you have about the balloon is some noisy position observation. In order to pop the balloon, you task is now to estimate its position given the noisy evidence.\n",
    "\n",
    "As a first step, let us discretize the system to formulate the generative model. For this, note that $\\dot{x}_t = \\frac{x_t - x{t-1}}{dt}$, where $dt$ is the time unit of the step size. Hence\n",
    "\\begin{eqnarray}\n",
    "x_t & = & x_{t-1} + v_t \\, dt, \\\\\n",
    "v_t & = & v_{t-1} - \\frac{1}{\\tau} v_{t-1} + \\eta_t.\n",
    "\\end{eqnarray}\n",
    "Further, the emission model is a Gaussian wrt x as before.\n",
    "\n",
    "Let us translate this to our go-to model parameters. Please take a moment to rethink where the parameters are coming from and why they have this particular shape."
   ]
  },
  {
   "cell_type": "code",
   "execution_count": null,
   "metadata": {},
   "outputs": [],
   "source": [
    "dt = 0.1\n",
    "params = {\n",
    "    \"dim_x\": 2,\n",
    "    \"dim_y\": 1,\n",
    "    \"F\": np.array([[1, dt],\n",
    "                   [0,  (1-dt)]]),\n",
    "    \"Q\": np.array([[0, 0],\n",
    "                   [0, 1 * dt]]),\n",
    "    \"H\": np.array([[1, 0]]),\n",
    "    \"R\": np.array([[1/dt]]),\n",
    "    \"mu0\": np.array([0,0]),\n",
    "    \"Sigma0\": np.array([[0, 0],\n",
    "                   [0, 1]]),\n",
    "    \"T\": int(100/dt)\n",
    "}"
   ]
  },
  {
   "cell_type": "markdown",
   "metadata": {},
   "source": [
    "You might have noticed the $dt$ scaling in the noise covariances. To give a back-of-the-envelope explanation: The variance of the transition model has to scale with $dt$ in order to keep the integrated white noise scale-invariant. The observation noise covariance scales inversely with the time step: The smaller I make the time step, the less informative a single observation becomes. On the other hand, I also have more observations per unit time, so this scaling prevents oversampling the observations and thus making the inference trivial. If you don't believe this, let's stick with divine intervention.\n",
    "\n",
    "Now we generate artificial data from this process:"
   ]
  },
  {
   "cell_type": "code",
   "execution_count": null,
   "metadata": {},
   "outputs": [],
   "source": [
    "def KFmv_generateData(params):\n",
    "    \n",
    "    # unpack some parameters for readibility\n",
    "    H = params[\"H\"]\n",
    "    F = params[\"F\"]\n",
    "\n",
    "    x = np.zeros([params[\"T\"]+1,params[\"dim_x\"]])\n",
    "    y = np.zeros([params[\"T\"]+1,params[\"dim_y\"]])\n",
    "\n",
    "    # initialization\n",
    "    x[0] = np.random.multivariate_normal(params[\"mu0\"],params[\"Sigma0\"])\n",
    "\n",
    "    for i in range(1,params[\"T\"]+1):\n",
    "        x[i] = np.random.multivariate_normal(np.dot(F,x[i-1]),params[\"Q\"]) # no square root now, bc multivariate_normal\n",
    "        y[i] = np.random.multivariate_normal(np.dot(H,x[i]), params[\"R\"])\n",
    "    \n",
    "    \n",
    "    return x, y\n",
    "\n",
    "\n",
    "np.random.seed(42)\n",
    "# generate the data\n",
    "x, y = KFmv_generateData(params)"
   ]
  },
  {
   "cell_type": "markdown",
   "metadata": {},
   "source": [
    "And now let's code up the multivariate Kalman filter. You don't have to do it again if your 1D code was general enough :)"
   ]
  },
  {
   "cell_type": "code",
   "execution_count": null,
   "metadata": {},
   "outputs": [],
   "source": [
    "def KFmv(y,params):\n",
    "    \n",
    "    # unpack some parameters for readibility\n",
    "    H = params[\"H\"]\n",
    "    F = params[\"F\"]\n",
    "\n",
    "\n",
    "    # initialize mu and Sigma\n",
    "    mu = np.zeros([params[\"T\"]+1,params[\"dim_x\"]])\n",
    "    mu[0] = # %%%%%%%%%%%%%%% ENTER CODE HERE %%%%%%%%%%%%%%%%%%%\n",
    "    Sigma = np.zeros([params[\"T\"]+1,params[\"dim_x\"],params[\"dim_x\"]])\n",
    "    Sigma[0] = # %%%%%%%%%%%%%%% ENTER CODE HERE %%%%%%%%%%%%%%%%%%%\n",
    "\n",
    "    for i in range(1,params[\"T\"]+1):\n",
    "\n",
    "        # variance of prediction density, for first step, P = Sigma0\n",
    "        # %%%%%%%%%%%%%%% ENTER CODE HERE %%%%%%%%%%%%%%%%%%%\n",
    "\n",
    "        # Kalman gain\n",
    "        # %%%%%%%%%%%%%%% ENTER CODE HERE %%%%%%%%%%%%%%%%%%%\n",
    "        \n",
    "        # propagate mean and variance\n",
    "        # %%%%%%%%%%%%%%% ENTER CODE HERE %%%%%%%%%%%%%%%%%%%\n",
    "            \n",
    "    \n",
    "    return mu, Sigma\n",
    "\n",
    "mu,Sigma = KFmv(y,params)"
   ]
  },
  {
   "cell_type": "code",
   "execution_count": null,
   "metadata": {},
   "outputs": [],
   "source": [
    "# Plot the trajectory and the observations\n",
    "# (assume no observation at y = 0 )\n",
    "\n",
    "t = np.arange(params[\"T\"]+1) * dt\n",
    "\n",
    "\n",
    "fig, (ax1,ax2,ax3) = plt.subplots(3,1,figsize=(10,8))\n",
    "fig.tight_layout()\n",
    "\n",
    "ax1.scatter(t[1:],y[1:],color='grey',facecolors='none')\n",
    "ax1.plot(t,mu[:,0],linewidth=3,color='red')\n",
    "ax1.plot(t,x[:,0],'black',linewidth=2)\n",
    "\n",
    "ax1.legend([r'$\\mu_t$ (KF)',r'$x_t$',r'$y_t$'])\n",
    "ax1.grid(True)\n",
    "ax1.set_xlim(0,t[-1])\n",
    "ax1.set_title('Position')\n",
    "\n",
    "\n",
    "ax2.plot(t,mu[:,1],linewidth=3,color='red')\n",
    "ax2.plot(t,x[:,1],'black',linewidth=2)\n",
    "ax2.grid(True)\n",
    "ax2.set_xlim(0,t[-1])\n",
    "ax2.set_title('Velocity')\n",
    "\n",
    "ax3.plot(t,Sigma[:,0,0])\n",
    "ax3.plot(t,Sigma[:,1,1])\n",
    "ax3.plot(t,Sigma[:,1,0])\n",
    "ax3.set_xlim(0,t[-1])\n",
    "ax3.legend([r'$\\Sigma_{xx}$',r'$\\Sigma_{yy}$',r'$\\Sigma_{xy}$'])\n",
    "ax3.grid(True)\n",
    "ax3.set_title('Components of covariance matrix')\n",
    "\n",
    "plt.show()"
   ]
  }
 ],
 "metadata": {
  "kernelspec": {
   "display_name": "Python 3",
   "language": "python",
   "name": "python3"
  },
  "language_info": {
   "codemirror_mode": {
    "name": "ipython",
    "version": 3
   },
   "file_extension": ".py",
   "mimetype": "text/x-python",
   "name": "python",
   "nbconvert_exporter": "python",
   "pygments_lexer": "ipython3",
   "version": "3.6.9"
  }
 },
 "nbformat": 4,
 "nbformat_minor": 2
}
