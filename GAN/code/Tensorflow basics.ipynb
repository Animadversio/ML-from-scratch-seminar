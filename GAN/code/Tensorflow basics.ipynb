{
 "cells": [
  {
   "cell_type": "code",
   "execution_count": 1,
   "metadata": {},
   "outputs": [],
   "source": [
    "import numpy as np\n",
    "import tensorflow as tf\n",
    "import matplotlib\n",
    "import matplotlib.pyplot as plt\n",
    "%matplotlib inline"
   ]
  },
  {
   "cell_type": "markdown",
   "metadata": {},
   "source": [
    "# Tensorflow basic manipulation\n",
    "### Adding constant"
   ]
  },
  {
   "cell_type": "code",
   "execution_count": 2,
   "metadata": {},
   "outputs": [
    {
     "name": "stdout",
     "output_type": "stream",
     "text": [
      "a = 1.0 \n",
      "b = 2.0 \n",
      "c = 3.0 \n",
      "d = 2.0\n"
     ]
    }
   ],
   "source": [
    "a = tf.constant(1., dtype = tf.float32)\n",
    "b = tf.constant(2., dtype = tf.float32)\n",
    "c = a + b\n",
    "d = a * b\n",
    "with tf.Session() as sess:\n",
    "    [c1,d1,a1,b1] = sess.run([c,d,a,b])\n",
    "    print('a =', a1,'\\nb =', b1, '\\nc =', c1, '\\nd =', d1)"
   ]
  },
  {
   "cell_type": "markdown",
   "metadata": {},
   "source": [
    "### Adding arrays as external inputs"
   ]
  },
  {
   "cell_type": "code",
   "execution_count": 3,
   "metadata": {},
   "outputs": [
    {
     "name": "stdout",
     "output_type": "stream",
     "text": [
      "a = [1. 2. 3.] \n",
      "b = [4. 5. 6.] \n",
      "c = [5. 7. 9.] \n",
      "d = [ 4. 10. 18.]\n"
     ]
    }
   ],
   "source": [
    "a = tf.placeholder(tf.float32, [3,])\n",
    "b = tf.placeholder(tf.float32, [3,])\n",
    "c = a + b\n",
    "d = a * b\n",
    "with tf.Session() as sess:\n",
    "    [c1,d1,a1,b1] = sess.run([c,d,a,b], feed_dict={a:np.array([1,2,3]), b:np.array([4,5,6])})\n",
    "    print('a =', a1,'\\nb =', b1, '\\nc =', c1, '\\nd =', d1)"
   ]
  },
  {
   "cell_type": "markdown",
   "metadata": {},
   "source": [
    "### Linear regression with gradient descent optimization"
   ]
  },
  {
   "cell_type": "code",
   "execution_count": 4,
   "metadata": {},
   "outputs": [
    {
     "name": "stdout",
     "output_type": "stream",
     "text": [
      "WARNING:tensorflow:From /Users/shihyitseng/anaconda3/envs/109b/lib/python3.6/site-packages/tensorflow/python/framework/op_def_library.py:263: colocate_with (from tensorflow.python.framework.ops) is deprecated and will be removed in a future version.\n",
      "Instructions for updating:\n",
      "Colocations handled automatically by placer.\n"
     ]
    }
   ],
   "source": [
    "# ground truth of weights and bias\n",
    "real_w = np.array([[2.5],[1.5],[-3.2]])\n",
    "real_b = 10.\n",
    "\n",
    "# use tf.placeholder as empty tensors that receive inputs\n",
    "x = tf.placeholder(tf.float32, [None,3])\n",
    "y = tf.placeholder(tf.float32, [None,1])\n",
    "\n",
    "# use tf.Variable to set up weights and bias\n",
    "w = tf.Variable(tf.random_normal([3, 1], stddev=0.01), dtype = tf.float32, name=\"weights\")\n",
    "b = tf.Variable(tf.random_normal([1, 1], stddev=0.01), dtype = tf.float32, name=\"bias\")\n",
    "\n",
    "# write down the model\n",
    "y_hat = tf.matmul(x,w) + b\n",
    "\n",
    "# write down loss function: mean square error\n",
    "loss = tf.reduce_mean((y-y_hat)**2)\n",
    "\n",
    "# set up optimizer and operation for minimizing loss\n",
    "optimizer = tf.train.GradientDescentOptimizer(learning_rate = 0.001)\n",
    "opt = optimizer.minimize(loss)\n",
    "\n",
    "# set up batch size and epochs\n",
    "batch_size = 32\n",
    "epochs = 1000\n",
    "loss_list = []\n",
    "w_list = []\n",
    "b_list = []\n",
    "\n",
    "# start a tf.Session to run the for loop\n",
    "with tf.Session() as sess:\n",
    "    # initialize all variables\n",
    "    sess.run(tf.global_variables_initializer())\n",
    "    \n",
    "    for i in range(epochs):\n",
    "        # sample x\n",
    "        x_batch = np.random.normal(0,3,(batch_size,3))\n",
    "        \n",
    "        # compute y and add some noise\n",
    "        y_batch = np.dot(x_batch,real_w) + real_b + np.random.normal(0,0.05,(batch_size,1))\n",
    "        \n",
    "        # run the optimization and query the loss, w, b for this iteration\n",
    "        _, this_loss, this_w, this_b = sess.run([opt, loss, w, b], feed_dict={x:x_batch, y:y_batch})\n",
    "        \n",
    "        # append loss, w and b\n",
    "        loss_list.append(this_loss)\n",
    "        w_list.append(this_w)\n",
    "        b_list.append(this_b)\n",
    "\n"
   ]
  },
  {
   "cell_type": "code",
   "execution_count": 5,
   "metadata": {},
   "outputs": [
    {
     "name": "stdout",
     "output_type": "stream",
     "text": [
      "weights =  [[ 2.5052967]\n",
      " [ 1.5077991]\n",
      " [-3.1986754]] \n",
      "bias = [[8.644744]]\n"
     ]
    },
    {
     "data": {
      "image/png": "[encoded data removed]",
      "text/plain": [
       "<Figure size 432x288 with 1 Axes>"
      ]
     },
     "metadata": {
      "needs_background": "light"
     },
     "output_type": "display_data"
    }
   ],
   "source": [
    "# show the results\n",
    "plt.plot(loss_list)\n",
    "plt.xlabel('Epoch')\n",
    "plt.ylabel('Loss')\n",
    "plt.title('Training loss')\n",
    "print('weights = ', w_list[-1], '\\nbias =', b_list[-1])"
   ]
  },
  {
   "cell_type": "code",
   "execution_count": null,
   "metadata": {},
   "outputs": [],
   "source": []
  }
 ],
 "metadata": {
  "kernelspec": {
   "display_name": "Python 3",
   "language": "python",
   "name": "python3"
  },
  "language_info": {
   "codemirror_mode": {
    "name": "ipython",
    "version": 3
   },
   "file_extension": ".py",
   "mimetype": "text/x-python",
   "name": "python",
   "nbconvert_exporter": "python",
   "pygments_lexer": "ipython3",
   "version": "3.6.7"
  }
 },
 "nbformat": 4,
 "nbformat_minor": 2
}
