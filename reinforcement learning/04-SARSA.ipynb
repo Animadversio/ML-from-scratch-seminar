{
  "cells": [
    {
      "cell_type": "markdown",
      "source": [
        "# Implementation of the SARSA algorithm\n",
        "\n",
        "This algorithm takes what we know about value function estimation and applies\n",
        "it to learning the action-value function.\n",
        "\n",
        "![img](./imgs/sarsa.png)\n",
        "\n",
        "From Sutton and Barto, 2018. Ch. 6."
      ],
      "metadata": {}
    },
    {
      "cell_type": "code",
      "source": [
        "# first, import necessary modules\n",
        "import sys\n",
        "import gym\n",
        "import random\n",
        "import itertools\n",
        "import numpy as np\n",
        "import seaborn as sns\n",
        "import matplotlib.pyplot as plt\n",
        "\n",
        "# add your own path to the RL repo here\n",
        "sys.path.append('/Users/wingillis/dev/reinforcement-learning')\n",
        "\n",
        "from collections import defaultdict\n",
        "from lib.envs.gridworld import GridworldEnv"
      ],
      "outputs": [],
      "execution_count": 1,
      "metadata": {}
    },
    {
      "cell_type": "code",
      "source": [
        "sns.set_style('white')"
      ],
      "outputs": [],
      "execution_count": 2,
      "metadata": {}
    },
    {
      "cell_type": "code",
      "source": [
        "# initialize the environment\n",
        "shape = (5, 5)  # size of the gridworld\n",
        "env = GridworldEnv(shape, n_goals=2)\n",
        "env.seed(23)\n",
        "random.seed(23)"
      ],
      "outputs": [],
      "execution_count": 3,
      "metadata": {}
    },
    {
      "cell_type": "code",
      "source": [
        "def make_epsilon_greedy_policy(Q, epsilon, n_actions):\n",
        "  '''\n",
        "  Creates an epsilon-greedy policy based on a given Q-function and epsilon.\n",
        "\n",
        "  Args:\n",
        "    Q: A dictionary that maps from state -> action-values.\n",
        "      Each value is a numpy array of length nA (see below)\n",
        "    epsilon: The probability to select a random action . float between 0 and 1.\n",
        "    n_actions: Number of actions in the environment.\n",
        "\n",
        "  Returns:\n",
        "    A function that takes the observation as an argument and returns\n",
        "    the probabilities for each action in the form of a numpy array of length nA.\n",
        "\n",
        "  '''\n",
        "  return policy_fn"
      ],
      "outputs": [],
      "execution_count": 4,
      "metadata": {}
    },
    {
      "cell_type": "code",
      "source": [
        "def sarsa(env, num_episodes, gamma=1.0, alpha=0.5, epsilon=0.1):\n",
        "  '''\n",
        "  SARSA algorithm: On-policy TD control. Finds the optimal epsilon-greedy policy.\n",
        "\n",
        "  Args:\n",
        "    env: OpenAI environment.\n",
        "    num_episodes: Number of episodes to run for.\n",
        "    gamma: discount factor.\n",
        "    alpha: TD learning rate.\n",
        "    epsilon: Probability a random action will be sampled. Float betwen 0 and 1.\n",
        "\n",
        "  Returns:\n",
        "    A tuple (Q, stats).\n",
        "    Q is the optimal action-value function, a dictionary mapping state -> action values.\n",
        "    stats is an EpisodeStats object with two numpy arrays for episode_lengths and episode_rewards.\n",
        "  '''\n",
        "\n",
        "  # The final action-value function.\n",
        "  # A nested dictionary that maps state -> (action -> action-value).\n",
        "  Q = defaultdict(lambda: np.zeros(env.nA))\n",
        "\n",
        "  # Keeps track of useful statistics\n",
        "  stats = dict(rewards=np.zeros(num_episodes), lengths=np.zeros(num_episodes))\n",
        "\n",
        "  # The policy we're following\n",
        "  policy = make_epsilon_greedy_policy(Q, epsilon, env.nA)\n",
        "\n",
        "  for i_episode in range(num_episodes):\n",
        "    # Print out which episode we're on, useful for debugging.\n",
        "    if (i_episode + 1) % 50 == 0:\n",
        "      print(f'\\rEpisode {i_episode + 1}/{num_episodes}.', end='')\n",
        "      sys.stdout.flush()\n",
        "\n",
        "    # Reset the environment and pick the first action\n",
        "\n",
        "    # take multiple steps in the env until you reach the goal\n",
        "    for t in itertools.count():\n",
        "      # take a step from the action picked above\n",
        "\n",
        "      # pick the next action based on your current state\n",
        "\n",
        "      # add cumulative reward to the statistics variable\n",
        "      stats['rewards'][i_episode] += \n",
        "\n",
        "      # perform the TD update to the action-value function\n",
        "\n",
        "      if done:\n",
        "        stats['lengths'][i_episode] = t\n",
        "        break\n",
        "\n",
        "      # update your current action and current state\n",
        "\n",
        "  return Q, stats"
      ],
      "outputs": [],
      "execution_count": 5,
      "metadata": {}
    },
    {
      "cell_type": "code",
      "source": [],
      "outputs": [],
      "execution_count": null,
      "metadata": {}
    },
    {
      "cell_type": "markdown",
      "source": [
        "## Next steps\n",
        "\n",
        "How might you improve the SARSA algorithm?\n",
        "\n",
        "What happens to your agent's total reward or completion time if you set epsilon close to 1? Or close to 0?"
      ],
      "metadata": {}
    },
    {
      "cell_type": "code",
      "source": [],
      "outputs": [],
      "execution_count": null,
      "metadata": {}
    },
    {
      "cell_type": "code",
      "source": [],
      "outputs": [],
      "execution_count": null,
      "metadata": {}
    },
    {
      "cell_type": "markdown",
      "source": [
        "## Reference results"
      ],
      "metadata": {}
    },
    {
      "cell_type": "code",
      "source": [
        "Q, stats = sarsa(env, 1000, gamma=0.1, alpha=0.15)"
      ],
      "outputs": [
        {
          "output_type": "stream",
          "name": "stdout",
          "text": [
            "Episode 1000/1000."
          ]
        }
      ],
      "execution_count": 6,
      "metadata": {}
    },
    {
      "cell_type": "code",
      "source": [
        "plt.plot(stats['rewards'])"
      ],
      "outputs": [
        {
          "output_type": "execute_result",
          "execution_count": 7,
          "data": {
            "text/plain": [
              "[<matplotlib.lines.Line2D at 0x7faa295f85d0>]"
            ]
          },
          "metadata": {}
        },
        {
          "output_type": "display_data",
          "data": {
            "image/png": "[encoded data removed]",
            "text/plain": [
              "<Figure size 432x288 with 1 Axes>"
            ]
          },
          "metadata": {}
        }
      ],
      "execution_count": 7,
      "metadata": {}
    },
    {
      "cell_type": "code",
      "source": [
        "plt.plot(stats['lengths'])\n",
        "plt.ylabel('steps')\n",
        "plt.xlabel('episodes')"
      ],
      "outputs": [
        {
          "output_type": "execute_result",
          "execution_count": 8,
          "data": {
            "text/plain": [
              "Text(0.5, 0, 'episodes')"
            ]
          },
          "metadata": {}
        },
        {
          "output_type": "display_data",
          "data": {
            "image/png": "[encoded data removed]",
            "text/plain": [
              "<Figure size 432x288 with 1 Axes>"
            ]
          },
          "metadata": {}
        }
      ],
      "execution_count": 8,
      "metadata": {}
    },
    {
      "cell_type": "markdown",
      "source": [
        "## Watch your policy reach the goal"
      ],
      "metadata": {}
    },
    {
      "cell_type": "code",
      "source": [
        "import time\n",
        "from IPython.display import clear_output"
      ],
      "outputs": [],
      "execution_count": 15,
      "metadata": {}
    },
    {
      "cell_type": "code",
      "source": [
        "policy = make_epsilon_greedy_policy(Q, 0, env.nA)"
      ],
      "outputs": [],
      "execution_count": 9,
      "metadata": {}
    },
    {
      "cell_type": "code",
      "source": [
        "n_steps = 40\n",
        "position = env.reset()\n",
        "for t in range(n_steps):\n",
        "  action = np.argmax(policy(position))\n",
        "  position, _, done, _ = env.step(action)\n",
        "  clear_output()\n",
        "  env.render('human')\n",
        "  time.sleep(1)\n",
        "  if done:\n",
        "    break"
      ],
      "outputs": [
        {
          "output_type": "stream",
          "name": "stdout",
          "text": [
            "T  o  o  o  o\n",
            "o  o  o  o  o\n",
            "o  o  o  o  o\n",
            "o  o  o  o  o\n",
            "o  o  o  o  x\n",
            "\r"
          ]
        }
      ],
      "execution_count": 35,
      "metadata": {}
    },
    {
      "cell_type": "code",
      "source": [],
      "outputs": [],
      "execution_count": null,
      "metadata": {}
    }
  ],
  "metadata": {
    "kernelspec": {
      "name": "rl",
      "language": "python",
      "display_name": "Reinforcement learning"
    },
    "language_info": {
      "name": "python",
      "version": "3.7.5",
      "mimetype": "text/x-python",
      "codemirror_mode": {
        "name": "ipython",
        "version": 3
      },
      "pygments_lexer": "ipython3",
      "nbconvert_exporter": "python",
      "file_extension": ".py"
    },
    "kernel_info": {
      "name": "rl"
    },
    "nteract": {
      "version": "0.15.0"
    }
  },
  "nbformat": 4,
  "nbformat_minor": 4
}