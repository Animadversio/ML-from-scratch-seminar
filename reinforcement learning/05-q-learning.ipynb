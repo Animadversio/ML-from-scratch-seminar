{
 "cells": [
  {
   "cell_type": "markdown",
   "metadata": {},
   "source": [
    "# Extra credit: implementing your own Q-learning algorithm\n",
    "\n",
    "If you've reached this far, then try from scratch (with the help of the\n",
    "pseudocode below) to set up your own Q-learning algorithm to solve the\n",
    "gridworld environment.\n",
    "\n",
    "![img](./imgs/q-learning.png)\n",
    "\n",
    "From Sutton and Barto, 2018. Ch. 6."
   ]
  },
  {
   "cell_type": "code",
   "execution_count": 1,
   "metadata": {},
   "outputs": [],
   "source": [
    "import sys\n",
    "import gym\n",
    "import random\n",
    "import itertools\n",
    "import numpy as np\n",
    "import seaborn as sns\n",
    "import matplotlib.pyplot as plt\n",
    "\n",
    "# add your own path to the RL repo here\n",
    "sys.path.append('/Users/wingillis/dev/reinforcement-learning')\n",
    "\n",
    "from collections import defaultdict\n",
    "from lib.envs.gridworld import GridworldEnv"
   ]
  },
  {
   "cell_type": "code",
   "execution_count": null,
   "metadata": {},
   "outputs": [],
   "source": [
    "# add your code here!"
   ]
  },
  {
   "cell_type": "markdown",
   "metadata": {},
   "source": [
    "## Compare the SARSA algorithm to the Q-learning algorithm\n",
    "\n",
    "How well does each find the optimal policy?\n",
    "\n",
    "Try using a different environment, like CliffWalking\n",
    "```python\n",
    "from lib.envs.cliff_walking import CliffWalking\n",
    "```\n",
    "\n",
    "How well does each find the optimal policy in this environment?\n",
    "\n",
    "What ways can you think to improve the average reward each algorithm obtains?\n",
    "\n",
    "\n",
    "## Bonus question\n",
    "\n",
    "How might you represent state in an Atari game?"
   ]
  },
  {
   "cell_type": "code",
   "execution_count": null,
   "metadata": {},
   "outputs": [],
   "source": []
  }
 ],
 "metadata": {
  "kernelspec": {
   "display_name": "Reinforcement learning",
   "language": "python",
   "name": "rl"
  },
  "language_info": {
   "codemirror_mode": {
    "name": "ipython",
    "version": 3
   },
   "file_extension": ".py",
   "mimetype": "text/x-python",
   "name": "python",
   "nbconvert_exporter": "python",
   "pygments_lexer": "ipython3",
   "version": "3.7.5"
  }
 },
 "nbformat": 4,
 "nbformat_minor": 4
}
